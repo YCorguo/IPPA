{
 "cells": [
  {
   "cell_type": "markdown",
   "metadata": {},
   "source": [
    "# IPPA\n",
    "\n",
    "## clear the workspace and configure the model"
   ]
  },
  {
   "cell_type": "code",
   "execution_count": 1,
   "metadata": {},
   "outputs": [
    {
     "name": "stderr",
     "output_type": "stream",
     "text": [
      "/var/folders/96/75gqgq_s2lz7zdh6kxtks3h40000gn/T/ipykernel_11681/246978568.py:3: DeprecationWarning: `magic(...)` is deprecated since IPython 0.13 (warning added in 8.1), use run_line_magic(magic_name, parameter_s).\n",
      "  get_ipython().magic('reset -sf')\n"
     ]
    }
   ],
   "source": [
    "# clear the workspace\n",
    "from IPython import get_ipython\n",
    "get_ipython().magic('reset -sf')\n",
    "\n",
    "subset_test = False"
   ]
  },
  {
   "cell_type": "markdown",
   "metadata": {},
   "source": [
    "## get data directories"
   ]
  },
  {
   "cell_type": "code",
   "execution_count": 2,
   "metadata": {},
   "outputs": [
    {
     "name": "stdout",
     "output_type": "stream",
     "text": [
      "current path:  /Users/cheye/Desktop/new_yc/projects/IPPA/scripts\n",
      "data file path:  /Users/cheye/Desktop/new_yc/projects/IPPA/scripts/../data/smp_2019\n",
      "data image path:  /Users/cheye/Desktop/new_yc/projects/IPPA/scripts/../data/smp_2019/images\n",
      "number of images:  248400\n",
      "device:  cpu\n"
     ]
    }
   ],
   "source": [
    "import os\n",
    "import random\n",
    "import gc\n",
    "import torch\n",
    "import PIL\n",
    "from PIL import Image\n",
    "import hashlib\n",
    "\n",
    "current_path = os.getcwd()\n",
    "print(\"current path: \", current_path)\n",
    "\n",
    "data_file_path = os.path.join(current_path, \"..\", \"data\", \"smp_2019\")\n",
    "print(\"data file path: \", data_file_path)\n",
    "\n",
    "data_image_path = os.path.join(data_file_path, \"images\")\n",
    "print(\"data image path: \", data_image_path)\n",
    "\n",
    "# get all images\n",
    "images = os.listdir(data_image_path)\n",
    "# only keep jpg images\n",
    "images = [image for image in images if image.endswith(\".jpg\")]\n",
    "\n",
    "random.seed(42)\n",
    "if subset_test:\n",
    "    images = random.sample(images, min(len(images), 100))\n",
    "\n",
    "# remove images with size 0\n",
    "images = [image for image in images if os.path.getsize( \\\n",
    "    os.path.join(data_image_path, image)) > 0]\n",
    "# remove images with size less than 80x60\n",
    "images = [image for image in images \\\n",
    "    if Image.open( os.path.join(data_image_path, image)).size[0] > 80\n",
    "    and Image.open(os.path.join(data_image_path, image)).size[1] > 60]\n",
    "dedup_images = []\n",
    "img_set = set()\n",
    "# use sha256 to deduplicate images\n",
    "for image in images:\n",
    "    with open(os.path.join(data_image_path, image), 'rb') as f:\n",
    "        img_hash = hashlib.sha256(f.read()).hexdigest()\n",
    "    if img_hash not in img_set:\n",
    "        dedup_images.append(image)\n",
    "        img_set.add(img_hash)\n",
    "images = dedup_images\n",
    "print(\"number of images: \", len(images))\n",
    "\n",
    "# set device\n",
    "device = torch.device(\"cuda\" if torch.cuda.is_available() else \"cpu\")\n",
    "print(\"device: \", device)"
   ]
  },
  {
   "cell_type": "markdown",
   "metadata": {},
   "source": [
    "## load data"
   ]
  },
  {
   "cell_type": "code",
   "execution_count": 3,
   "metadata": {},
   "outputs": [
    {
     "name": "stdout",
     "output_type": "stream",
     "text": [
      "train data:\n",
      "                                                                                               img_path  label  timestamp\n",
      "140273  /Users/cheye/Desktop/new_yc/projects/IPPA/data/smp_2019/images/1715_24323446680_db80c102fa.jpg   7.98      163.0\n"
     ]
    }
   ],
   "source": [
    "import pandas as pd\n",
    "import numpy as np\n",
    "import json\n",
    "\n",
    "user_additional         = os.path.join(data_file_path, \"user_additional.csv\")\n",
    "train_file_dir          = os.path.join(data_file_path, \"train_all_json\")\n",
    "img_url_file            = os.path.join(data_file_path, \"img_url.txt\")\n",
    "train_user_data         = os.path.join(data_file_path, \"train_all_json\", \"train_user_data.json\")\n",
    "\n",
    "train_additional        = os.path.join(train_file_dir, \"train_additional_information.json\")\n",
    "train_img               = os.path.join(train_file_dir, \"train_img_filepath.txt\")\n",
    "train_label             = os.path.join(train_file_dir, \"train_label.txt\")\n",
    "\n",
    "with open(train_additional) as f:\n",
    "    train_additional = json.load(f)\n",
    "train_additional        = pd.DataFrame(train_additional)\n",
    "img_url                 = pd.read_csv(img_url_file, sep=\"\\t\", header=None)\n",
    "img_url.columns         = [\"url\", \"src\"]\n",
    "data                    = pd.concat([train_additional, img_url], axis=1)\n",
    "with open(train_label) as f:\n",
    "    train_labels = pd.read_csv(f, header=None)\n",
    "train_labels.columns    = [\"label\"]\n",
    "train_user_data         = json.load(open(train_user_data))\n",
    "train_user_data         = pd.DataFrame(train_user_data)\n",
    "train_user_data         = train_user_data[[\"photo_firstdatetaken\"]]\n",
    "train_user_data.columns = [\"timestamp\"]\n",
    "train_user_data[\"timestamp\"] = train_user_data[\"timestamp\"].apply(lambda x: x[:-2])\n",
    "data                    = pd.concat([data, train_labels, train_user_data], axis=1)\n",
    "img_names               = images\n",
    "img_names               = [i.replace(\"_\", \"/\", 1) for i in img_names if i.endswith(\".jpg\")]\n",
    "img_names               = [\"https://live.staticflickr.com/\" + i for i \\\n",
    "                           in img_names if i.endswith(\".jpg\")]\n",
    "img_names               = pd.DataFrame(img_names, columns=[\"src\"])\n",
    "data                    = pd.merge(data, img_names, on=[\"src\"])\n",
    "data[\"src\"]             = data[\"src\"].apply(lambda x: os.path.join( \\\n",
    "    data_image_path, x.replace(\"https://live.staticflickr.com/\", \"\").replace(\"/\", \"_\")))\n",
    "data[\"src\"]             = data[\"src\"].apply(lambda x: os.path.abspath(x))\n",
    "\n",
    "# 将timestamp转为数字，如果没有timestamp或不在20000000到20300000之间，则去掉这一行\n",
    "data[\"timestamp\"] = pd.to_numeric(data[\"timestamp\"], errors=\"coerce\")\n",
    "data = data.dropna(subset=[\"timestamp\"])\n",
    "data = data[(data[\"timestamp\"] > 20000000) & (data[\"timestamp\"] < 20300000)]\n",
    "# timestamp都减去最大值再取反\n",
    "data[\"timestamp\"] = data[\"timestamp\"].apply(lambda x: x // 10000 * 12 + x // 100 % 100)\n",
    "# print(data.head(10).to_string())\n",
    "timestamp_max = data[\"timestamp\"].max()\n",
    "data[\"timestamp\"] = -data[\"timestamp\"] + timestamp_max\n",
    "\n",
    "data = data[[\"src\", \"label\", \"timestamp\"]]\n",
    "data = data.rename(columns={\"src\": \"img_path\"})\n",
    "\n",
    "# 将数据按照0.8,0.1,0.1的比例划分为训练集，验证集和测试集\n",
    "train_data = data.sample(frac=0.8)\n",
    "data = data.drop(train_data.index)\n",
    "valid_data = data.sample(frac=0.5)\n",
    "test_data = data.drop(valid_data.index)\n",
    "\n",
    "del data_file_path, data_image_path, images, user_additional\n",
    "del train_file_dir, img_url_file, train_additional, train_img\n",
    "del train_label, img_url, train_labels, img_names, current_path, f\n",
    "del train_user_data, img_hash, dedup_images, img_set, image\n",
    "del timestamp_max, data\n",
    "gc.collect()\n",
    "\n",
    "print(\"train data:\\n\", train_data.head(1).to_string())"
   ]
  },
  {
   "cell_type": "markdown",
   "metadata": {},
   "source": [
    "## statistics on different time （month-wise）"
   ]
  },
  {
   "cell_type": "code",
   "execution_count": 4,
   "metadata": {},
   "outputs": [
    {
     "data": {
      "image/png": "[encoded data removed]",
      "text/plain": [
       "<Figure size 1000x600 with 1 Axes>"
      ]
     },
     "metadata": {},
     "output_type": "display_data"
    },
    {
     "data": {
      "text/plain": [
       "3171"
      ]
     },
     "execution_count": 4,
     "metadata": {},
     "output_type": "execute_result"
    }
   ],
   "source": [
    "# 根据不同月份统计平均的label值\n",
    "Month_Count = {}\n",
    "Month_labels = {}\n",
    "# 对train_data进行统计\n",
    "for i in range(len(train_data)):\n",
    "    timestamp = train_data.iloc[i][\"timestamp\"]\n",
    "    month = timestamp\n",
    "    if month not in Month_Count:\n",
    "        Month_Count[month] = 0\n",
    "        Month_labels[month] = 0\n",
    "    Month_Count[month] += 1\n",
    "    Month_labels[month] += train_data.iloc[i][\"label\"]\n",
    "for key, value in list(Month_Count.items()):\n",
    "    if not subset_test and value < 100:\n",
    "        Month_Count.pop(key)\n",
    "        Month_labels.pop(key)\n",
    "    else: Month_labels[key] /= value\n",
    "# 以Month_labels，画出曲线\n",
    "from matplotlib import pyplot as plt\n",
    "Month_labels_toPlot = list(Month_labels.items())\n",
    "Month_labels_toPlot.sort(key=lambda x: x[0])\n",
    "Month_labels_toPlot = list(zip(*Month_labels_toPlot))\n",
    "plt.figure(figsize=(10, 6))\n",
    "plt.ylim(0, 10)\n",
    "plt.plot(Month_labels_toPlot[0], Month_labels_toPlot[1])\n",
    "plt.xlabel(\"timestamp\")\n",
    "plt.ylabel(\"popularity\")\n",
    "plt.title(\"popularity vs timestamp\")\n",
    "plt.axvline(x=20, linestyle=\"--\")\n",
    "plt.text(20, 5.5, \"x = 20\", fontsize=12)\n",
    "plt.show()\n",
    "\n",
    "train_data = train_data.drop(columns=[\"timestamp\"])\n",
    "valid_data = valid_data.drop(columns=[\"timestamp\"])\n",
    "test_data = test_data.drop(columns=[\"timestamp\"])\n",
    "del Month_Count, Month_labels, Month_labels_toPlot\n",
    "del timestamp, month, key, value, i\n",
    "gc.collect()"
   ]
  },
  {
   "cell_type": "markdown",
   "metadata": {},
   "source": [
    "## Test Platform"
   ]
  },
  {
   "cell_type": "code",
   "execution_count": null,
   "metadata": {},
   "outputs": [],
   "source": [
    "# "
   ]
  },
  {
   "cell_type": "markdown",
   "metadata": {},
   "source": [
    "## classification"
   ]
  },
  {
   "cell_type": "code",
   "execution_count": 223,
   "metadata": {},
   "outputs": [
    {
     "name": "stdout",
     "output_type": "stream",
     "text": [
      "Loads checkpoint by http backend from path: https://download.openmmlab.com/mmclassification/v0/efficientnet/efficientnet-b0_3rdparty_8xb32_in1k_20220119-a7e2a0b1.pth\n"
     ]
    },
    {
     "name": "stderr",
     "output_type": "stream",
     "text": [
      "100%|██████████| 7765/7765 [6:19:59<00:00,  2.94s/it]  \n"
     ]
    },
    {
     "data": {
      "text/plain": [
       "86"
      ]
     },
     "execution_count": 223,
     "metadata": {},
     "output_type": "execute_result"
    }
   ],
   "source": [
    "import torch\n",
    "from mmpretrain import get_model\n",
    "from torch.utils.data import Dataset, DataLoader\n",
    "import torchvision.transforms as transforms\n",
    "from torchvision.transforms import functional as F\n",
    "from PIL import Image\n",
    "import tqdm\n",
    "\n",
    "model = get_model('efficientnet-b0_3rdparty_8xb32_in1k', pretrained=True).to(device)\n",
    "\n",
    "class CustomDataset(Dataset):\n",
    "    def __init__(self, dataframe, transform=None):\n",
    "        self.dataframe = dataframe\n",
    "        self.transform = transform\n",
    "\n",
    "    def __len__(self):\n",
    "        return len(self.dataframe)\n",
    "\n",
    "    def __getitem__(self, idx):\n",
    "        img_path = self.dataframe.iloc[idx, 0]\n",
    "        image = Image.open(img_path).convert('RGB')\n",
    "        label = self.dataframe.iloc[idx, 1]\n",
    "\n",
    "        if self.transform:\n",
    "            image = self.transform(image)\n",
    "\n",
    "        return image, label\n",
    "\n",
    "transform = transforms.Compose([\n",
    "    transforms.Resize((224, 224)),\n",
    "    transforms.ToTensor(),\n",
    "    transforms.Normalize(mean=[0.485, 0.456, 0.406], std=[0.229, 0.224, 0.225]),\n",
    "])\n",
    "\n",
    "dataset = CustomDataset(dataframe=data, transform=transform)\n",
    "\n",
    "data_loader = DataLoader(dataset, batch_size=32, shuffle=False)\n",
    "\n",
    "model.eval()\n",
    "outputs = []\n",
    "\n",
    "with torch.no_grad():\n",
    "    for inputs, labels in tqdm.tqdm(data_loader):\n",
    "        inputs = inputs.to(device)\n",
    "        results = model(inputs)\n",
    "        _, preds = torch.max(results, 1)\n",
    "        outputs.append(preds.cpu())\n",
    "\n",
    "preds = torch.cat(outputs, dim=0)\n",
    "\n",
    "del data_loader, inputs, labels, results, outputs, transform\n",
    "del dataset, model, CustomDataset, DataLoader, transforms\n",
    "gc.collect()"
   ]
  },
  {
   "cell_type": "markdown",
   "metadata": {},
   "source": [
    "## Count different classification results."
   ]
  },
  {
   "cell_type": "code",
   "execution_count": 236,
   "metadata": {},
   "outputs": [
    {
     "data": {
      "image/png": "[encoded data removed]",
      "text/plain": [
       "<Figure size 640x480 with 1 Axes>"
      ]
     },
     "metadata": {},
     "output_type": "display_data"
    }
   ],
   "source": [
    "from collections import Counter\n",
    "import matplotlib.pyplot as plt\n",
    "\n",
    "# save preds\n",
    "# np.save(\"../data/smp_2019/preds_all.npy\", preds.numpy())\n",
    "preds = torch.from_numpy(np.load(\"../data/smp_2019/preds_all.npy\"))\n",
    "\n",
    "type_counter = Counter(preds.numpy())\n",
    "type_sum = Counter()\n",
    "\n",
    "for i, (img, label) in enumerate(data.values):\n",
    "    type_sum[preds[i].item()] += label\n",
    "\n",
    "type_sum = dict(type_sum)\n",
    "type_counter = dict(type_counter)\n",
    "\n",
    "type_sum = {k: v / type_counter[k] if type_counter[k] > 0 else 0 for k, v in type_sum.items()}\n",
    "\n",
    "x = type_sum.keys()\n",
    "x = list(x)\n",
    "x.sort()\n",
    "\n",
    "y = type_sum.values()\n",
    "y = list(y)\n",
    "y.sort(reverse=True)\n",
    "\n",
    "plt.bar(x, y)\n",
    "plt.show()"
   ]
  }
 ],
 "metadata": {
  "kernelspec": {
   "display_name": "py3.9",
   "language": "python",
   "name": "python3"
  },
  "language_info": {
   "codemirror_mode": {
    "name": "ipython",
    "version": 3
   },
   "file_extension": ".py",
   "mimetype": "text/x-python",
   "name": "python",
   "nbconvert_exporter": "python",
   "pygments_lexer": "ipython3",
   "version": "3.9.18"
  }
 },
 "nbformat": 4,
 "nbformat_minor": 2
}
